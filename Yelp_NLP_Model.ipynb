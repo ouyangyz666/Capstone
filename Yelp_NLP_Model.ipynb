{
 "cells": [
  {
   "cell_type": "code",
   "execution_count": 1,
   "metadata": {},
   "outputs": [],
   "source": [
    "### Basic NLP model for Capstone\n",
    "# Import Libraries\n",
    "import numpy as np\n",
    "import pandas as pd\n",
    "import nltk\n",
    "import seaborn as sns # this was used for the correlation plot (length vs. review rating)\n",
    "import matplotlib.pyplot as plt #basic plotting\n",
    "import string\n",
    "from nltk.corpus import stopwords\n",
    "from nltk.stem.porter import PorterStemmer\n",
    "from sklearn.feature_extraction.text import CountVectorizer\n",
    "from sklearn.model_selection import train_test_split\n",
    "from sklearn.metrics import confusion_matrix, accuracy_score, classification_report"
   ]
  },
  {
   "cell_type": "code",
   "execution_count": 2,
   "metadata": {},
   "outputs": [],
   "source": [
    "# Load in the Yelp data\n",
    "data = pd.read_csv(\"yelp.csv\")"
   ]
  },
  {
   "cell_type": "code",
   "execution_count": 3,
   "metadata": {},
   "outputs": [
    {
     "name": "stdout",
     "output_type": "stream",
     "text": [
      "shape of dataset:\n",
      "(10000, 10)\n",
      "First few entries:\n",
      "              business_id        date               review_id  stars  \\\n",
      "0  9yKzy9PApeiPPOUJEtnvkg  2011-01-26  fWKvX83p0-ka4JS3dc6E5A      5   \n",
      "1  ZRJwVLyzEJq1VAihDhYiow  2011-07-27  IjZ33sJrzXqU-0X6U8NwyA      5   \n",
      "2  6oRAC4uyJCsJl1X0WZpVSA  2012-06-14  IESLBzqUCLdSzSqm0eCSxQ      4   \n",
      "3  _1QQZuf4zZOyFCvXc0o6Vg  2010-05-27  G-WvGaISbqqaMHlNnByodA      5   \n",
      "4  6ozycU1RpktNG2-1BroVtw  2012-01-05  1uJFq2r5QfJG_6ExMRCaGw      5   \n",
      "\n",
      "                                                text    type  \\\n",
      "0  My wife took me here on my birthday for breakf...  review   \n",
      "1  I have no idea why some people give bad review...  review   \n",
      "2  love the gyro plate. Rice is so good and I als...  review   \n",
      "3  Rosie, Dakota, and I LOVE Chaparral Dog Park!!...  review   \n",
      "4  General Manager Scott Petello is a good egg!!!...  review   \n",
      "\n",
      "                  user_id  cool  useful  funny  \n",
      "0  rLtl8ZkDX5vH5nAx9C3q5Q     2       5      0  \n",
      "1  0a2KyEL0d3Yb1V6aivbIuQ     0       0      0  \n",
      "2  0hT2KtfLiobPvh6cDC8JQg     0       1      0  \n",
      "3  uZetl9T0NcROGOyFfughhg     1       2      0  \n",
      "4  vYmM4KTsC8ZfQBg-j5MWkw     0       0      0  \n"
     ]
    }
   ],
   "source": [
    "### Examine data\n",
    "print('shape of dataset:')\n",
    "print(data.shape)\n",
    "print('First few entries:')\n",
    "print(data.head())"
   ]
  },
  {
   "cell_type": "code",
   "execution_count": 4,
   "metadata": {},
   "outputs": [
    {
     "data": {
      "text/plain": [
       "<BarContainer object of 5 artists>"
      ]
     },
     "execution_count": 4,
     "metadata": {},
     "output_type": "execute_result"
    },
    {
     "data": {
      "image/png": "[encoded data removed]",
      "text/plain": [
       "<Figure size 432x288 with 1 Axes>"
      ]
     },
     "metadata": {
      "needs_background": "light"
     },
     "output_type": "display_data"
    }
   ],
   "source": [
    "#count and sort\n",
    "bar_graph = data['stars'].value_counts()\n",
    "bar_graph = bar_graph.sort_index()\n",
    "#plot\n",
    "plt.title('Star Distribution')\n",
    "plt.xlabel('star')\n",
    "plt.ylabel('number')\n",
    "plt.bar(bar_graph.index, bar_graph.values)"
   ]
  },
  {
   "cell_type": "code",
   "execution_count": 5,
   "metadata": {},
   "outputs": [
    {
     "data": {
      "text/plain": [
       "<seaborn.axisgrid.FacetGrid at 0x1dbcde2e670>"
      ]
     },
     "execution_count": 5,
     "metadata": {},
     "output_type": "execute_result"
    },
    {
     "data": {
      "image/png": "[encoded data removed]",
      "text/plain": [
       "<Figure size 1080x216 with 5 Axes>"
      ]
     },
     "metadata": {
      "needs_background": "light"
     },
     "output_type": "display_data"
    }
   ],
   "source": [
    "# correlation between length of review and rating may be insightful\n",
    "data['length of text'] = data['text'].apply(len)\n",
    "graph = sns.FacetGrid(data=data,col='stars')\n",
    "graph.map(plt.hist,'length of text',bins=50,color='green')"
   ]
  },
  {
   "cell_type": "code",
   "execution_count": 6,
   "metadata": {},
   "outputs": [],
   "source": [
    "# separate into binary varialbes\n",
    "data[\"negative\"] = np.where(data[\"stars\"] <= 2, 1, 0)\n",
    "#data_1 = data[[\"text\",\"positive\"]]\n",
    "#print(data_1.head())\n",
    "data[\"text_cleaned\"] = data[\"text\"].str.replace('[^\\w\\s]','')\n",
    "data[\"text_cleaned2\"] = data[\"text_cleaned\"].str.lower()\n",
    "x = data['text_cleaned2']\n",
    "y = data['negative']"
   ]
  },
  {
   "cell_type": "code",
   "execution_count": 7,
   "metadata": {},
   "outputs": [],
   "source": [
    "# removing stop words and punctuation\n",
    "porter = PorterStemmer()\n",
    "def text_process(text):\n",
    "    nopunc = [char for char in text if char not in string.punctuation]\n",
    "    nopunc = ''.join(nopunc)\n",
    "    nopunc = [word for word in nopunc.split() if word.lower() not in stopwords.words('english')]\n",
    "    return [porter.stem(word.lower()) for word in nopunc]"
   ]
  },
  {
   "cell_type": "code",
   "execution_count": 8,
   "metadata": {},
   "outputs": [
    {
     "name": "stdout",
     "output_type": "stream",
     "text": [
      "['10', '100', '11', '12', '13', '14', '15', '18', '2', '20', '24', '25', '3', '30', '35', '4', '40', '45', '5', '50', '6', '60', '7', '8', '80', '9', '90', 'abl', 'absolut', 'accept', 'access', 'accommod', 'accompani', 'across', 'act', 'activ', 'actual', 'ad', 'add', 'addict', 'addit', 'admit', 'ador', 'adult', 'advantag', 'adventur', 'advic', 'afford', 'afternoon', 'age', 'ago', 'agre', 'ahead', 'air', 'airport', 'alcohol', 'allow', 'almost', 'alon', 'along', 'alreadi', 'alright', 'also', 'altern', 'although', 'alway', 'amaz', 'ambianc', 'ambienc', 'american', 'among', 'amount', 'anim', 'annoy', 'anoth', 'answer', 'anymor', 'anyon', 'anyth', 'anytim', 'anyway', 'anywher', 'apart', 'apolog', 'app', 'appar', 'appeal', 'appear', 'appet', 'appl', 'appoint', 'appreci', 'approach', 'appropri', 'area', 'arent', 'arizona', 'around', 'arriv', 'art', 'artichok', 'asada', 'asian', 'asid', 'ask', 'ass', 'assum', 'asu', 'ate', 'atmospher', 'attempt', 'attend', 'attent', 'attitud', 'attract', 'authent', 'avail', 'ave', 'averag', 'avocado', 'avoid', 'aw', 'away', 'awesom', 'awhil', 'az', 'b', 'babi', 'back', 'bacon', 'bad', 'bag', 'bagel', 'bake', 'bakeri', 'balanc', 'ball', 'banana', 'band', 'bar', 'bare', 'bartend', 'base', 'basi', 'basic', 'basil', 'basket', 'bathroom', 'batter', 'bbq', 'bean', 'bear', 'beat', 'beauti', 'becom', 'bed', 'beef', 'beer', 'begin', 'behind', 'believ', 'bell', 'belli', 'besid', 'best', 'better', 'beverag', 'beyond', 'bf', 'big', 'bigger', 'biggest', 'bike', 'bill', 'birthday', 'bit', 'bite', 'black', 'bland', 'blend', 'block', 'blow', 'blown', 'blue', 'board', 'bodi', 'bomb', 'bone', 'bonu', 'book', 'booth', 'bore', 'bother', 'bottl', 'bottom', 'bought', 'bowl', 'box', 'boy', 'boyfriend', 'brand', 'bread', 'break', 'breakfast', 'brew', 'bright', 'bring', 'brisket', 'broccoli', 'broth', 'brother', 'brought', 'brown', 'browni', 'brunch', 'bruschetta', 'buck', 'bud', 'buffalo', 'buffet', 'build', 'bun', 'bunch', 'burger', 'burn', 'burrito', 'busi', 'butter', 'buy', 'cafe', 'cake', 'calamari', 'california', 'call', 'calori', 'came', 'camelback', 'candi', 'cannot', 'cant', 'car', 'caramel', 'card', 'care', 'carn', 'carri', 'carrot', 'cart', 'case', 'cash', 'cashier', 'casual', 'catch', 'cater', 'caught', 'caus', 'celebr', 'cent', 'center', 'central', 'certain', 'certainli', 'chain', 'chair', 'challeng', 'chanc', 'chandler', 'chang', 'charg', 'charm', 'chat', 'cheap', 'cheaper', 'check', 'cheddar', 'cheer', 'chees', 'cheesecak', 'cheesi', 'chef', 'cherri', 'chewi', 'chicago', 'chicken', 'child', 'children', 'chile', 'chili', 'chill', 'chines', 'chip', 'chipotl', 'chocol', 'choic', 'choos', 'chop', 'chorizo', 'chose', 'chunk', 'cinnamon', 'citi', 'claim', 'class', 'classic', 'clean', 'clear', 'clearli', 'close', 'closer', 'cloth', 'club', 'cocktail', 'coconut', 'coffe', 'coke', 'cold', 'colleg', 'color', 'combin', 'combo', 'come', 'comfi', 'comfort', 'comment', 'common', 'commun', 'compani', 'companion', 'compar']\n"
     ]
    }
   ],
   "source": [
    "# words -> vectors\n",
    "vocab = CountVectorizer(analyzer=text_process,min_df = 0.005).fit(x)\n",
    "#vocab = CountVectorizer(stop_words = stopwords.words('english'), lowercase=True, ngram_range=(1, 3)).fit(x)\n",
    "#print(vocab.vocabulary_)\n",
    "print(vocab.get_feature_names()[1:330])"
   ]
  },
  {
   "cell_type": "code",
   "execution_count": 9,
   "metadata": {},
   "outputs": [
    {
     "name": "stdout",
     "output_type": "stream",
     "text": [
      "Shape of the sparse matrix:  (10000, 1633)\n",
      "Non-Zero occurences:  454524\n",
      "Density of the matrix =  2.7833680342927125\n"
     ]
    }
   ],
   "source": [
    "x = vocab.transform(x)\n",
    "#Shape of the matrix:\n",
    "print(\"Shape of the sparse matrix: \", x.shape)\n",
    "#Non-zero occurences:\n",
    "print(\"Non-Zero occurences: \",x.nnz)\n",
    "\n",
    "# DENSITY OF THE MATRIX\n",
    "density = (x.nnz/(x.shape[0]*x.shape[1]))*100\n",
    "print(\"Density of the matrix = \",density)"
   ]
  },
  {
   "cell_type": "code",
   "execution_count": 10,
   "metadata": {},
   "outputs": [],
   "source": [
    "#from imblearn.over_sampling import SMOTE\n",
    "\n",
    "# SMOTE the training data\n",
    "#sm = SMOTE(random_state=6)\n",
    "#X_bal, y_bal = sm.fit_resample(X_train1, y_train)\n",
    "#y_bal.value_counts()"
   ]
  },
  {
   "cell_type": "code",
   "execution_count": 11,
   "metadata": {},
   "outputs": [],
   "source": [
    "x_train,x_test,y_train,y_test = train_test_split(x,y,test_size=0.3,random_state=101)"
   ]
  },
  {
   "cell_type": "code",
   "execution_count": 12,
   "metadata": {},
   "outputs": [
    {
     "name": "stdout",
     "output_type": "stream",
     "text": [
      "Confusion Matrix for Multinomial Naive Bayes:\n",
      "[[2284  223]\n",
      " [ 170  323]]\n",
      "Score: 86.9\n",
      "Classification Report:               precision    recall  f1-score   support\n",
      "\n",
      "           0       0.93      0.91      0.92      2507\n",
      "           1       0.59      0.66      0.62       493\n",
      "\n",
      "    accuracy                           0.87      3000\n",
      "   macro avg       0.76      0.78      0.77      3000\n",
      "weighted avg       0.87      0.87      0.87      3000\n",
      "\n"
     ]
    }
   ],
   "source": [
    "# MN Naive Bayes\n",
    "from sklearn.naive_bayes import MultinomialNB\n",
    "mnb = MultinomialNB()\n",
    "mnb.fit(x_train,y_train)\n",
    "predmnb = mnb.predict(x_test)\n",
    "print(\"Confusion Matrix for Multinomial Naive Bayes:\")\n",
    "print(confusion_matrix(y_test,predmnb))\n",
    "print(\"Score:\",round(accuracy_score(y_test,predmnb)*100,2))\n",
    "print(\"Classification Report:\",classification_report(y_test,predmnb))"
   ]
  },
  {
   "cell_type": "code",
   "execution_count": 13,
   "metadata": {},
   "outputs": [
    {
     "name": "stdout",
     "output_type": "stream",
     "text": [
      "Confusion Matrix for Logistic Regression:\n",
      "[[2357  150]\n",
      " [ 216  277]]\n",
      "Score: 87.8\n",
      "Classification Report:               precision    recall  f1-score   support\n",
      "\n",
      "           0       0.92      0.94      0.93      2507\n",
      "           1       0.65      0.56      0.60       493\n",
      "\n",
      "    accuracy                           0.88      3000\n",
      "   macro avg       0.78      0.75      0.77      3000\n",
      "weighted avg       0.87      0.88      0.87      3000\n",
      "\n"
     ]
    },
    {
     "name": "stderr",
     "output_type": "stream",
     "text": [
      "C:\\Users\\Steven Johannemann\\anaconda3\\lib\\site-packages\\sklearn\\linear_model\\_logistic.py:762: ConvergenceWarning: lbfgs failed to converge (status=1):\n",
      "STOP: TOTAL NO. of ITERATIONS REACHED LIMIT.\n",
      "\n",
      "Increase the number of iterations (max_iter) or scale the data as shown in:\n",
      "    https://scikit-learn.org/stable/modules/preprocessing.html\n",
      "Please also refer to the documentation for alternative solver options:\n",
      "    https://scikit-learn.org/stable/modules/linear_model.html#logistic-regression\n",
      "  n_iter_i = _check_optimize_result(\n"
     ]
    }
   ],
   "source": [
    "# Logistic Regression\n",
    "from sklearn.linear_model import LogisticRegression\n",
    "logreg = LogisticRegression(solver='lbfgs',multi_class='auto',random_state=6)\n",
    "logreg.fit(x_train,y_train)\n",
    "predlog = logreg.predict(x_test)\n",
    "print(\"Confusion Matrix for Logistic Regression:\")\n",
    "print(confusion_matrix(y_test,predlog))\n",
    "print(\"Score:\",round(accuracy_score(y_test,predlog)*100,2))\n",
    "print(\"Classification Report:\",classification_report(y_test,predlog))"
   ]
  },
  {
   "cell_type": "code",
   "execution_count": 14,
   "metadata": {},
   "outputs": [
    {
     "name": "stdout",
     "output_type": "stream",
     "text": [
      "Confusion Matrix for Random Forest Classifier:\n",
      "[[2481   26]\n",
      " [ 372  121]]\n",
      "Score: 86.73\n",
      "Classification Report:               precision    recall  f1-score   support\n",
      "\n",
      "           0       0.87      0.99      0.93      2507\n",
      "           1       0.82      0.25      0.38       493\n",
      "\n",
      "    accuracy                           0.87      3000\n",
      "   macro avg       0.85      0.62      0.65      3000\n",
      "weighted avg       0.86      0.87      0.84      3000\n",
      "\n"
     ]
    }
   ],
   "source": [
    "# Random Forest\n",
    "from sklearn.ensemble import RandomForestClassifier\n",
    "rmfr = RandomForestClassifier()\n",
    "rmfr.fit(x_train,y_train)\n",
    "predrmfr = rmfr.predict(x_test)\n",
    "print(\"Confusion Matrix for Random Forest Classifier:\")\n",
    "print(confusion_matrix(y_test,predrmfr))\n",
    "print(\"Score:\",round(accuracy_score(y_test,predrmfr)*100,2))\n",
    "print(\"Classification Report:\",classification_report(y_test,predrmfr))"
   ]
  },
  {
   "cell_type": "code",
   "execution_count": null,
   "metadata": {},
   "outputs": [],
   "source": []
  }
 ],
 "metadata": {
  "kernelspec": {
   "display_name": "Python 3",
   "language": "python",
   "name": "python3"
  },
  "language_info": {
   "codemirror_mode": {
    "name": "ipython",
    "version": 3
   },
   "file_extension": ".py",
   "mimetype": "text/x-python",
   "name": "python",
   "nbconvert_exporter": "python",
   "pygments_lexer": "ipython3",
   "version": "3.8.3"
  }
 },
 "nbformat": 4,
 "nbformat_minor": 4
}
